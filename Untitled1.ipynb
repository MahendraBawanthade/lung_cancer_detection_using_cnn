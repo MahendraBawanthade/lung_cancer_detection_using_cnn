{
 "cells": [
  {
   "cell_type": "code",
   "execution_count": 1,
   "id": "84978958",
   "metadata": {},
   "outputs": [],
   "source": [
    "import cv2\n",
    "import tensorflow as tf\n",
    "import numpy as np\n",
    "import os\n",
    "from keras.preprocessing.image import ImageDataGenerator\n",
    "from keras.layers import Dense,Flatten,Conv2D,Activation,Dropout\n",
    "from keras import backend as K\n",
    "import keras\n",
    "from keras.models import Sequential, Model\n",
    "from keras.models import load_model\n",
    "from keras.optimizers import SGD\n",
    "from keras.callbacks import EarlyStopping,ModelCheckpoint\n",
    "from keras.layers import MaxPool2D,AveragePooling2D\n",
    "\n",
    "\n"
   ]
  },
  {
   "cell_type": "code",
   "execution_count": 2,
   "id": "47fbd435",
   "metadata": {},
   "outputs": [
    {
     "name": "stdout",
     "output_type": "stream",
     "text": [
      "['cancerous', 'non-cancerous']\n",
      "['cancerous', 'non-cancerous']\n"
     ]
    }
   ],
   "source": [
    "\n",
    "\n",
    "train_path=\"processedData/train\"\n",
    "test_path=\"processedData/test\"\n",
    "class_names=os.listdir(train_path)\n",
    "class_names_test=os.listdir(test_path)\n",
    "\n",
    "print(class_names)\n",
    "print(class_names_test)\n",
    "\n"
   ]
  },
  {
   "cell_type": "code",
   "execution_count": 3,
   "id": "2e327c3b",
   "metadata": {},
   "outputs": [
    {
     "name": "stdout",
     "output_type": "stream",
     "text": [
      "Found 699 images belonging to 2 classes.\n",
      "Found 202 images belonging to 2 classes.\n"
     ]
    }
   ],
   "source": [
    "\n",
    "\n",
    "#training_dir = '/content/drive/MyDrive/dataset/training_dataset' #To be changed\n",
    "#validation_dir = '/content/drive/MyDrive/dataset/validation_set' #To be changed\n",
    "train_datagen = ImageDataGenerator(zoom_range=0.15,width_shift_range=0.2,height_shift_range=0.2,shear_range=0.15)\n",
    "test_datagen = ImageDataGenerator()\n",
    "\n",
    "\n",
    "train_generator = train_datagen.flow_from_directory(\"processedData/train\",target_size=(224, 224),batch_size=32,shuffle=True,class_mode='binary')\n",
    "test_generator = test_datagen.flow_from_directory(\"processedData/test\",target_size=(224,224),batch_size=32,shuffle=False,class_mode='binary')\n"
   ]
  },
  {
   "cell_type": "code",
   "execution_count": 4,
   "id": "6aa78418",
   "metadata": {},
   "outputs": [
    {
     "name": "stdout",
     "output_type": "stream",
     "text": [
      "Model: \"sequential\"\n",
      "_________________________________________________________________\n",
      " Layer (type)                Output Shape              Param #   \n",
      "=================================================================\n",
      " conv2d (Conv2D)             (None, 224, 224, 64)      1792      \n",
      "                                                                 \n",
      " conv2d_1 (Conv2D)           (None, 224, 224, 64)      36928     \n",
      "                                                                 \n",
      " max_pooling2d (MaxPooling2  (None, 112, 112, 64)      0         \n",
      " D)                                                              \n",
      "                                                                 \n",
      " conv2d_2 (Conv2D)           (None, 112, 112, 128)     73856     \n",
      "                                                                 \n",
      " conv2d_3 (Conv2D)           (None, 112, 112, 128)     147584    \n",
      "                                                                 \n",
      " max_pooling2d_1 (MaxPoolin  (None, 56, 56, 128)       0         \n",
      " g2D)                                                            \n",
      "                                                                 \n",
      " conv2d_4 (Conv2D)           (None, 56, 56, 256)       295168    \n",
      "                                                                 \n",
      " conv2d_5 (Conv2D)           (None, 56, 56, 256)       590080    \n",
      "                                                                 \n",
      " conv2d_6 (Conv2D)           (None, 56, 56, 256)       590080    \n",
      "                                                                 \n",
      " max_pooling2d_2 (MaxPoolin  (None, 28, 28, 256)       0         \n",
      " g2D)                                                            \n",
      "                                                                 \n",
      " conv2d_7 (Conv2D)           (None, 28, 28, 512)       1180160   \n",
      "                                                                 \n",
      " conv2d_8 (Conv2D)           (None, 28, 28, 512)       2359808   \n",
      "                                                                 \n",
      " conv2d_9 (Conv2D)           (None, 28, 28, 512)       2359808   \n",
      "                                                                 \n",
      " max_pooling2d_3 (MaxPoolin  (None, 14, 14, 512)       0         \n",
      " g2D)                                                            \n",
      "                                                                 \n",
      " conv2d_10 (Conv2D)          (None, 14, 14, 512)       2359808   \n",
      "                                                                 \n",
      " conv2d_11 (Conv2D)          (None, 14, 14, 512)       2359808   \n",
      "                                                                 \n",
      " conv2d_12 (Conv2D)          (None, 14, 14, 512)       2359808   \n",
      "                                                                 \n",
      " vgg16 (MaxPooling2D)        (None, 7, 7, 512)         0         \n",
      "                                                                 \n",
      " flatten (Flatten)           (None, 25088)             0         \n",
      "                                                                 \n",
      " fc1 (Dense)                 (None, 256)               6422784   \n",
      "                                                                 \n",
      " fc2 (Dense)                 (None, 128)               32896     \n",
      "                                                                 \n",
      " output (Dense)              (None, 1)                 129       \n",
      "                                                                 \n",
      "=================================================================\n",
      "Total params: 21170497 (80.76 MB)\n",
      "Trainable params: 21170497 (80.76 MB)\n",
      "Non-trainable params: 0 (0.00 Byte)\n",
      "_________________________________________________________________\n"
     ]
    }
   ],
   "source": [
    "\n",
    "from tensorflow.keras.layers import InputLayer\n",
    "def VGG16():\n",
    "    model = Sequential()\n",
    "    model.add(Conv2D(input_shape=(224,224,3),filters=64,kernel_size=(3,3),padding=\"same\", activation=\"relu\"))\n",
    "    model.add(Conv2D(filters=64,kernel_size=(3,3),padding=\"same\", activation=\"relu\"))\n",
    "    model.add(MaxPool2D(pool_size=(2,2),strides=(2,2)))\n",
    "    model.add(Conv2D(filters=128, kernel_size=(3,3), padding=\"same\", activation=\"relu\"))\n",
    "    model.add(Conv2D(filters=128, kernel_size=(3,3), padding=\"same\", activation=\"relu\"))\n",
    "    model.add(MaxPool2D(pool_size=(2,2),strides=(2,2)))\n",
    "    model.add(Conv2D(filters=256, kernel_size=(3,3), padding=\"same\", activation=\"relu\"))\n",
    "    model.add(Conv2D(filters=256, kernel_size=(3,3), padding=\"same\", activation=\"relu\"))\n",
    "    model.add(Conv2D(filters=256, kernel_size=(3,3), padding=\"same\", activation=\"relu\"))\n",
    "    model.add(MaxPool2D(pool_size=(2,2),strides=(2,2)))\n",
    "    model.add(Conv2D(filters=512, kernel_size=(3,3), padding=\"same\", activation=\"relu\"))\n",
    "    model.add(Conv2D(filters=512, kernel_size=(3,3), padding=\"same\", activation=\"relu\"))\n",
    "    model.add(Conv2D(filters=512, kernel_size=(3,3), padding=\"same\", activation=\"relu\"))\n",
    "    model.add(MaxPool2D(pool_size=(2,2),strides=(2,2)))\n",
    "    model.add(Conv2D(filters=512, kernel_size=(3,3), padding=\"same\", activation=\"relu\"))\n",
    "    model.add(Conv2D(filters=512, kernel_size=(3,3), padding=\"same\", activation=\"relu\"))\n",
    "    model.add(Conv2D(filters=512, kernel_size=(3,3), padding=\"same\", activation=\"relu\"))\n",
    "    model.add(MaxPool2D(pool_size=(2,2),strides=(2,2),name='vgg16'))\n",
    "    model.add(Flatten(name='flatten'))\n",
    "    model.add(Dense(256, activation='relu', name='fc1'))\n",
    "    model.add(Dense(128, activation='relu', name='fc2'))\n",
    "    model.add(Dense(1, activation='sigmoid', name='output'))\n",
    "    return model\n",
    "\n",
    "\n",
    "\n",
    "\n",
    "\n",
    "model=VGG16()\n",
    "\n",
    "model.summary()\n",
    "\n"
   ]
  },
  {
   "cell_type": "code",
   "execution_count": 5,
   "id": "8300339a",
   "metadata": {},
   "outputs": [
    {
     "name": "stdout",
     "output_type": "stream",
     "text": [
      "<keras.src.layers.convolutional.conv2d.Conv2D object at 0x00000213A4CEB310> False\n",
      "<keras.src.layers.convolutional.conv2d.Conv2D object at 0x0000021398A913F0> False\n",
      "<keras.src.layers.pooling.max_pooling2d.MaxPooling2D object at 0x0000021398AB50F0> False\n",
      "<keras.src.layers.convolutional.conv2d.Conv2D object at 0x00000213A4EA4070> False\n",
      "<keras.src.layers.convolutional.conv2d.Conv2D object at 0x00000213A4EA5A20> False\n",
      "<keras.src.layers.pooling.max_pooling2d.MaxPooling2D object at 0x0000021398A923B0> False\n",
      "<keras.src.layers.convolutional.conv2d.Conv2D object at 0x00000213A4EA6470> False\n",
      "<keras.src.layers.convolutional.conv2d.Conv2D object at 0x00000213A4EA4CA0> False\n",
      "<keras.src.layers.convolutional.conv2d.Conv2D object at 0x00000213A4EA4D30> False\n",
      "<keras.src.layers.pooling.max_pooling2d.MaxPooling2D object at 0x000002139A25CD00> False\n",
      "<keras.src.layers.convolutional.conv2d.Conv2D object at 0x00000213A4F11330> False\n",
      "<keras.src.layers.convolutional.conv2d.Conv2D object at 0x00000213A4F122F0> False\n",
      "<keras.src.layers.convolutional.conv2d.Conv2D object at 0x00000213A4F12320> False\n",
      "<keras.src.layers.pooling.max_pooling2d.MaxPooling2D object at 0x00000213A4EA7E80> False\n",
      "<keras.src.layers.convolutional.conv2d.Conv2D object at 0x00000213A4F128F0> False\n",
      "<keras.src.layers.convolutional.conv2d.Conv2D object at 0x00000213A4F249D0> False\n",
      "<keras.src.layers.convolutional.conv2d.Conv2D object at 0x00000213A4F24A30> False\n",
      "<keras.src.layers.pooling.max_pooling2d.MaxPooling2D object at 0x00000213A4F26260> False\n",
      "<keras.src.layers.reshaping.flatten.Flatten object at 0x00000213A4F10D00> True\n",
      "<keras.src.layers.core.dense.Dense object at 0x00000213A4F27520> True\n",
      "<keras.src.layers.core.dense.Dense object at 0x00000213A4F26BF0> True\n",
      "<keras.src.layers.core.dense.Dense object at 0x00000213A4F274C0> True\n"
     ]
    }
   ],
   "source": [
    "\n",
    "Vgg16 = Model(inputs=model.input, outputs=model.get_layer('vgg16').output)\n",
    "\n",
    "#Vgg16.load_weights(\"/content/drive/MyDrive/vgg16_weights_tf_dim_ordering_tf_kernels_notop.h5\")\n",
    "\n",
    "for layer in Vgg16.layers:\n",
    "    layer.trainable = False    #False means that the weights of these layers will not be updated during training.\n",
    "                              # true  means model weights are updating durining training\n",
    "\n",
    "for layer in model.layers:\n",
    "    print(layer, layer.trainable)\n",
    "\n",
    "opt = SGD(learning_rate=1e-4, momentum=0.9)\n",
    "model.compile(loss=\"binary_crossentropy\", optimizer=opt,metrics=[\"accuracy\"])\n",
    "\n",
    "es=EarlyStopping(monitor='val_accuracy', mode='max', verbose=1, patience=5)\n",
    "\n",
    "mc = ModelCheckpoint('best_model.h5', monitor='val_accuracy', mode='max', save_best_only=True)\n"
   ]
  },
  {
   "cell_type": "code",
   "execution_count": 6,
   "id": "baf6544d",
   "metadata": {},
   "outputs": [
    {
     "name": "stderr",
     "output_type": "stream",
     "text": [
      "C:\\Users\\mayur\\AppData\\Local\\Temp\\ipykernel_19536\\2359743327.py:4: UserWarning: `Model.fit_generator` is deprecated and will be removed in a future version. Please use `Model.fit`, which supports generators.\n",
      "  H = model.fit_generator(train_generator,\n"
     ]
    },
    {
     "name": "stdout",
     "output_type": "stream",
     "text": [
      "Epoch 1/5\n",
      "22/22 [==============================] - 86s 4s/step - loss: 0.5009 - accuracy: 0.7868 - val_loss: 0.4603 - val_accuracy: 0.7822\n",
      "Epoch 2/5\n"
     ]
    },
    {
     "name": "stderr",
     "output_type": "stream",
     "text": [
      "C:\\Users\\mayur\\anaconda3.0\\lib\\site-packages\\keras\\src\\engine\\training.py:3000: UserWarning: You are saving your model as an HDF5 file via `model.save()`. This file format is considered legacy. We recommend using instead the native Keras format, e.g. `model.save('my_model.keras')`.\n",
      "  saving_api.save_model(\n"
     ]
    },
    {
     "name": "stdout",
     "output_type": "stream",
     "text": [
      "22/22 [==============================] - 83s 4s/step - loss: 0.4699 - accuracy: 0.7854 - val_loss: 0.4183 - val_accuracy: 0.8267\n",
      "Epoch 3/5\n",
      "22/22 [==============================] - 121s 6s/step - loss: 0.4603 - accuracy: 0.7940 - val_loss: 0.3927 - val_accuracy: 0.7871\n",
      "Epoch 4/5\n",
      "22/22 [==============================] - 153s 7s/step - loss: 0.4527 - accuracy: 0.7983 - val_loss: 0.4019 - val_accuracy: 0.8663\n",
      "Epoch 5/5\n",
      "22/22 [==============================] - 90s 4s/step - loss: 0.4380 - accuracy: 0.7954 - val_loss: 0.3838 - val_accuracy: 0.8663\n"
     ]
    }
   ],
   "source": [
    "\n",
    "from PIL import Image, ImageFile\n",
    "ImageFile.LOAD_TRUNCATED_IMAGES = True\n",
    "\n",
    "H = model.fit_generator(train_generator,\n",
    "                        epochs=5,\n",
    "                        verbose=1,\n",
    "                        validation_data=test_generator,\n",
    "                        callbacks=[mc,es])\n",
    "\n"
   ]
  },
  {
   "cell_type": "code",
   "execution_count": 15,
   "id": "4631f452",
   "metadata": {},
   "outputs": [
    {
     "name": "stdout",
     "output_type": "stream",
     "text": [
      "7/7 [==============================] - 24s 3s/step - loss: 0.5093 - accuracy: 0.7822\n",
      "7/7 [==============================] - 23s 3s/step\n"
     ]
    },
    {
     "name": "stderr",
     "output_type": "stream",
     "text": [
      "C:\\Users\\mayur\\AppData\\Local\\Temp\\ipykernel_22700\\289958781.py:10: UserWarning: You are saving your model as an HDF5 file via `model.save()`. This file format is considered legacy. We recommend using instead the native Keras format, e.g. `model.save('my_model.keras')`.\n",
      "  tf.keras.models.save_model(model,'mini_project.hdf5')\n"
     ]
    }
   ],
   "source": [
    "\n",
    "from tensorflow.keras.models import load_model\n",
    "model.save('mini_project.hdf5')\n",
    "\n",
    "model.load_weights(\"best_model.h5\")\n",
    "\n",
    "model.evaluate(test_generator)\n",
    "\n",
    "model.predict(test_generator)\n",
    "\n",
    "tf.keras.models.save_model(model,'mini_project.hdf5')\n"
   ]
  },
  {
   "cell_type": "code",
   "execution_count": 11,
   "id": "a84d7697",
   "metadata": {},
   "outputs": [],
   "source": [
    "\n",
    "\n",
    "def predict_(image_path):\n",
    "    #Load the Model from Json File\n",
    "    json_file = open('model.json', 'r')\n",
    "    model_json_c = json_file.read()\n",
    "    json_file.close()\n",
    "    model_c = model_from_json(model_json_c)\n",
    "    #Load the weights\n",
    "    model_c.load_weights(\"best_model.h5\")\n",
    "    #Compile the model\n",
    "    opt = SGD(lr=1e-4, momentum=0.9)\n",
    "    model_c.compile(loss=\"categorical_crossentropy\", optimizer=opt,metrics=[\"accuracy\"])\n",
    "    #load the image you want to classify\n",
    "    image = cv2.imread(image_path)\n",
    "    image = cv2.resize(image, (224,224))\n",
    "    cv2_imshow(image)\n",
    "    #predict the image\n",
    "    preds = model_c.predict(np.expand_dims(image, axis=0))[0]\n",
    "    if (preds<=0.4445):\n",
    "        print(\"Predicted Label:non-cancerous\")\n",
    "    else:\n",
    "        print(\"Predicted Label: cancerous\")"
   ]
  },
  {
   "cell_type": "code",
   "execution_count": 12,
   "id": "51017437",
   "metadata": {},
   "outputs": [
    {
     "name": "stderr",
     "output_type": "stream",
     "text": [
      "C:\\Users\\mayur\\AppData\\Local\\Temp\\ipykernel_19536\\4216432192.py:10: UserWarning: `Model.predict_generator` is deprecated and will be removed in a future version. Please use `Model.predict`, which supports generators.\n",
      "  Y_pred = model.predict_generator(test_generator, num_of_test_samples // batch_size+1)\n"
     ]
    },
    {
     "name": "stdout",
     "output_type": "stream",
     "text": [
      "WARNING:tensorflow:Your input ran out of data; interrupting training. Make sure that your dataset or generator can generate at least `steps_per_epoch * epochs` batches (in this case, 20 batches). You may need to use the repeat() function when building your dataset.\n",
      "[[158   0]\n",
      " [ 44   0]]\n",
      "Confusion Matrix\n",
      "Classification Report\n",
      "               precision    recall  f1-score   support\n",
      "\n",
      "non-cancerous       0.78      1.00      0.88       158\n",
      "    cancerous       0.00      0.00      0.00        44\n",
      "\n",
      "     accuracy                           0.78       202\n",
      "    macro avg       0.39      0.50      0.44       202\n",
      " weighted avg       0.61      0.78      0.69       202\n",
      "\n"
     ]
    },
    {
     "name": "stderr",
     "output_type": "stream",
     "text": [
      "C:\\Users\\mayur\\anaconda3.0\\lib\\site-packages\\sklearn\\metrics\\_classification.py:1344: UndefinedMetricWarning: Precision and F-score are ill-defined and being set to 0.0 in labels with no predicted samples. Use `zero_division` parameter to control this behavior.\n",
      "  _warn_prf(average, modifier, msg_start, len(result))\n",
      "C:\\Users\\mayur\\anaconda3.0\\lib\\site-packages\\sklearn\\metrics\\_classification.py:1344: UndefinedMetricWarning: Precision and F-score are ill-defined and being set to 0.0 in labels with no predicted samples. Use `zero_division` parameter to control this behavior.\n",
      "  _warn_prf(average, modifier, msg_start, len(result))\n",
      "C:\\Users\\mayur\\anaconda3.0\\lib\\site-packages\\sklearn\\metrics\\_classification.py:1344: UndefinedMetricWarning: Precision and F-score are ill-defined and being set to 0.0 in labels with no predicted samples. Use `zero_division` parameter to control this behavior.\n",
      "  _warn_prf(average, modifier, msg_start, len(result))\n"
     ]
    }
   ],
   "source": [
    "batch_size=32\n",
    "\n",
    "from sklearn.metrics import ConfusionMatrixDisplay\n",
    "from sklearn.metrics import confusion_matrix\n",
    "from sklearn.metrics import classification_report\n",
    "\n",
    "num_of_train_samples = 1932\n",
    "num_of_test_samples = 610\n",
    "\n",
    "Y_pred = model.predict_generator(test_generator, num_of_test_samples // batch_size+1)\n",
    "y_pred = np.argmax(Y_pred, axis=1)\n",
    "print(confusion_matrix(test_generator.classes, y_pred))\n",
    "print('Confusion Matrix')\n",
    "print('Classification Report')\n",
    "target_names = ['non-cancerous', 'cancerous']\n",
    "print(classification_report(test_generator.classes, y_pred, target_names=target_names))"
   ]
  }
 ],
 "metadata": {
  "kernelspec": {
   "display_name": "Python 3 (ipykernel)",
   "language": "python",
   "name": "python3"
  },
  "language_info": {
   "codemirror_mode": {
    "name": "ipython",
    "version": 3
   },
   "file_extension": ".py",
   "mimetype": "text/x-python",
   "name": "python",
   "nbconvert_exporter": "python",
   "pygments_lexer": "ipython3",
   "version": "3.10.9"
  }
 },
 "nbformat": 4,
 "nbformat_minor": 5
}
